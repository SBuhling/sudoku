{
 "cells": [
  {
   "cell_type": "code",
   "execution_count": 1,
   "id": "central-listening",
   "metadata": {},
   "outputs": [
    {
     "data": {
      "application/vnd.jupyter.widget-view+json": {
       "model_id": "138900be362a4973a222d430af0b5144",
       "version_major": 2,
       "version_minor": 0
      },
      "text/plain": [
       "VBox(children=(VBox(children=(HTML(value='<p style=\"text-align:left\"><b>Select Option</b>'), ToggleButtons(but…"
      ]
     },
     "metadata": {},
     "output_type": "display_data"
    }
   ],
   "source": [
    "### @author: Sander Buhling \n",
    "\n",
    "\n",
    "#info\n",
    "# button colors\n",
    "# ''           = white             = Empty\n",
    "# 'success'    = 'green'           = Manual input\n",
    "# 'info'       = 'blue'            = From input grid / fixed\n",
    "#'warning'     = orange / yellow   = Calculated\n",
    "#'danger'      = 'red'             = Incorrect\n",
    "\n",
    "from ipywidgets import widgets, GridspecLayout, Layout\n",
    "from IPython.display import display\n",
    "import numpy as np, sys\n",
    "from datetime import datetime\n",
    "\n",
    "### Define Button On_Click actions\n",
    "def on_button_clicked(b):\n",
    "    if str(toggle_options.value) == 'Clear' : \n",
    "        b.description = '-'\n",
    "        b.button_style= ''\n",
    "    else : \n",
    "        b.description = str(toggle_options.value)\n",
    "        b.button_style='success'\n",
    "        print(b.tooltip + 'value:' + b.description)\n",
    "        #Row:1, Column:3value:1\n",
    "        #grid[]\n",
    "    \n",
    "def on_reset_clicked(b):\n",
    "    sudoku.description = '-'\n",
    "    for k in range(3):          # matrix Column\n",
    "        for l in range(3):       # matrix Row\n",
    "            for i in range(3):    # matrix Column\n",
    "                for j in range(3): # matrix Row\n",
    "                    sudoku[k,l][i,j].description = '-'\n",
    "\n",
    "\n",
    "### Define all fields\n",
    "#grid[row][column]               \n",
    "#grid = [[0,0,0,0,0,0,0,0,0],[0,0,0,0,0,0,0,0,0],[0,0,0,0,0,0,0,0,0],\n",
    "#        [0,0,0,0,0,0,0,0,0],[0,0,0,0,0,0,0,0,0],[0,0,0,0,0,0,0,0,0],\n",
    "#        [0,0,0,0,0,0,0,0,0],[0,0,0,0,0,0,0,0,0],[0,0,0,0,0,0,0,0,0]]\n",
    "grid = [[0,0,4,0,2,0,0,7,0],[0,7,0,0,0,0,6,2,0],[0,0,0,0,8,7,4,3,0],\n",
    "       [2,0,0,8,0,0,9,0,0],[0,6,0,0,0,0,0,1,0],[0,0,3,0,0,1,0,0,2],\n",
    "       [0,4,8,7,5,0,0,0,0],[0,5,1,0,0,0,0,9,0],[0,2,0,0,3,0,5,0,0]]\n",
    "\n",
    "options_text = widgets.HTML(value='<p style=\"text-align:left\"><b>Select Option</b>') \n",
    "toggle_options = widgets.ToggleButtons(options=['1', '2', '3', '4', '5', '6', '7', '8', '9', 'Clear'], button_style = 'primary',layout=Layout(width='auto'))\n",
    "solve_button  = widgets.Button(description='Solve Sudoku', style={'button_color': 'lightgreen'}, layout=Layout(width='100%'), tooltip='Solve Sudoku')\n",
    "\n",
    "solution_text = \"Sudoku Solution: \\n\" + str(grid[0]) + \"\\n\" + str(grid[1]) + \"\\n\" + str(grid[2]) + \"\\n\" + str(grid[3]) + \"\\n\" + str(grid[4]) + \"\\n\" + str(grid[5]) + \"\\n\" + str(grid[6]) + \"\\n\" + str(grid[7]) + \"\\n\" + str(grid[8])\n",
    "solution_textbox =widgets.Textarea(value=solution_text, rows=10)\n",
    "reset_button  = widgets.Button(description='Reset all field',  style={'button_color': 'lightblue'}, layout=Layout(width='100%'), tooltip='Reset all field')\n",
    "reset_button.on_click(on_reset_clicked)\n",
    "\n",
    "sudoku = GridspecLayout(3, 3)\n",
    "sudoku.box_style='danger'\n",
    "for k in range(3):     # matrix Column\n",
    "    for l in range(3):     # matrix Row\n",
    "        sudoku[k,l] = GridspecLayout(3,3, width='auto')\n",
    "        for i in range(3):     # Column\n",
    "            for j in range(3): # Row\n",
    "                if grid[l*3+j][k*3+i] == 0:\n",
    "                    #sudoku[Matrix Row, Matrix Column][Row, Column]                \n",
    "                    sudoku[k,l][i,j] = widgets.Button(description='-',\n",
    "                                                      button_style='', # 'success', 'info', 'warning', 'danger' or ''\n",
    "                                                      layout=Layout(width='auto'),\n",
    "                                                      tooltip='Row:' + str(i+1+l*3) + ', Column:' + str(j+1+k*3))\n",
    "                else:\n",
    "                    sudoku[k,l][i,j] = widgets.Button(description=str(grid[l*3+j][k*3+i]),#'-',                 \n",
    "                                                      button_style='info', # 'success', 'info', 'warning', 'danger' or ''\n",
    "                                                      layout=Layout(width='auto'),\n",
    "                                                      tooltip='Row:' + str(i+1+l*3) + ', Column:' + str(j+1+k*3))\n",
    "                sudoku[k,l][i,j].on_click(on_button_clicked)\n",
    "                \n",
    "                \n",
    "\n",
    "\n",
    "### Layout variable. Used for spacing the grid\n",
    "var1 = int(30) # width of the  3x3 matrix\n",
    "var2 = int(2)  # width between 3x3 matrix\n",
    "\n",
    "grid_1 = GridspecLayout(3*var1 + 2*var2 + 1 ,3*var1 + 2*var2 + 1, width='auto')\n",
    "grid_1[ 0*var1 + 0*var2 : 1*var1 + 0*var2, 0*var1 + 0*var2 : 1*var1 + 0*var2] = sudoku[0,0] #Row1, Column1\n",
    "grid_1[ 0*var1 + 0*var2 : 1*var1 + 0*var2, 1*var1 + 1*var2 : 2*var1 + 1*var2] = sudoku[1,0] #Row1, Column2\n",
    "grid_1[ 0*var1 + 0*var2 : 1*var1 + 0*var2, 2*var1 + 2*var2 : 3*var1 + 2*var2] = sudoku[2,0] #Row1, Column3\n",
    "grid_1[ 1*var1 + 1*var2 : 2*var1 + 1*var2, 0*var1 + 0*var2 : 1*var1 + 0*var2] = sudoku[0,1] #Row2, Column1\n",
    "grid_1[ 1*var1 + 1*var2 : 2*var1 + 1*var2, 1*var1 + 1*var2 : 2*var1 + 1*var2] = sudoku[1,1] #Row2, Column2\n",
    "grid_1[ 1*var1 + 1*var2 : 2*var1 + 1*var2, 2*var1 + 2*var2 : 3*var1 + 2*var2] = sudoku[2,1] #Row2, Column3\n",
    "grid_1[ 2*var1 + 2*var2 : 3*var1 + 2*var2, 0*var1 + 0*var2 : 1*var1 + 0*var2] = sudoku[0,2] #Row2, Column1\n",
    "grid_1[ 2*var1 + 2*var2 : 3*var1 + 2*var2, 1*var1 + 1*var2 : 2*var1 + 1*var2] = sudoku[1,2] #Row2, Column2\n",
    "grid_1[ 2*var1 + 2*var2 : 3*var1 + 2*var2, 2*var1 + 2*var2 : 3*var1 + 2*var2] = sudoku[2,2] #Row2, Column3\n",
    "grid_1.box_style='info'\n",
    "\n",
    "\n",
    "### Display\n",
    "layout_header = widgets.VBox([options_text, toggle_options])\n",
    "layout_body   = widgets.VBox([grid_1])\n",
    "layout_footer = widgets.HBox([solve_button, solution_textbox, reset_button])\n",
    "layout_total = widgets.VBox([layout_header, layout_body, layout_footer])\n",
    "display(layout_total)\n",
    "\n"
   ]
  },
  {
   "cell_type": "code",
   "execution_count": 2,
   "id": "imposed-baghdad",
   "metadata": {},
   "outputs": [],
   "source": [
    "#sudoku[2,1]"
   ]
  },
  {
   "cell_type": "code",
   "execution_count": 3,
   "id": "paperback-cologne",
   "metadata": {},
   "outputs": [],
   "source": [
    "#l=0 #matrix row\n",
    "#j=1 #row\n",
    "#k=2 #matrix column\n",
    "#i=1 #column\n",
    "#grid[l*3+j][k*3+i]"
   ]
  },
  {
   "cell_type": "code",
   "execution_count": 4,
   "id": "secondary-offering",
   "metadata": {},
   "outputs": [],
   "source": [
    "#Sudoku Input: \n",
    "# [[0 0 4 0 2 0 0 7 0]\n",
    "# [0 7 0 0 0 0 6 2 0]\n",
    "# [0 0 0 0 8 7 4 3 0]\n",
    "# [2 0 0 8 0 0 9 0 0]\n",
    "# [0 6 0 0 0 0 0 1 0]\n",
    "# [0 0 3 0 0 1 0 0 2]\n",
    "# [0 4 8 7 5 0 0 0 0]\n",
    "# [0 5 1 0 0 0 0 9 0]\n",
    "# [0 2 0 0 3 0 5 0 0]] \n",
    "# Start met oplossen ... "
   ]
  },
  {
   "cell_type": "code",
   "execution_count": 5,
   "id": "prepared-swift",
   "metadata": {},
   "outputs": [],
   "source": [
    "#text = \"12345678\"\n",
    "#text(:3)"
   ]
  },
  {
   "cell_type": "code",
   "execution_count": null,
   "id": "variable-penny",
   "metadata": {},
   "outputs": [],
   "source": []
  },
  {
   "cell_type": "code",
   "execution_count": 6,
   "id": "annual-preview",
   "metadata": {},
   "outputs": [
    {
     "name": "stdout",
     "output_type": "stream",
     "text": [
      "Sudoku Input: \n",
      " [[0 0 4 0 2 0 0 7 0]\n",
      " [0 7 0 0 0 0 6 2 0]\n",
      " [0 0 0 0 8 7 4 3 0]\n",
      " [2 0 0 8 0 0 9 0 0]\n",
      " [0 6 0 0 0 0 0 1 0]\n",
      " [0 0 3 0 0 1 0 0 2]\n",
      " [0 4 8 7 5 0 0 0 0]\n",
      " [0 5 1 0 0 0 0 9 0]\n",
      " [0 2 0 0 3 0 5 0 0]] \n",
      " Start met oplossen ... \n",
      "\n",
      "Sudoku Oplossing: 1 \n",
      " [[1 3 4 9 2 6 8 7 5]\n",
      " [8 7 5 3 1 4 6 2 9]\n",
      " [6 9 2 5 8 7 4 3 1]\n",
      " [2 1 7 8 4 3 9 5 6]\n",
      " [4 6 9 2 7 5 3 1 8]\n",
      " [5 8 3 6 9 1 7 4 2]\n",
      " [9 4 8 7 5 2 1 6 3]\n",
      " [3 5 1 4 6 8 2 9 7]\n",
      " [7 2 6 1 3 9 5 8 4]] \n",
      " \n",
      " Opgelost in  0:00:00.030672 \n",
      " Functie solve:  1323 \n",
      " Functie possible 11704 \n",
      " Functie checksolved 1324\n"
     ]
    },
    {
     "ename": "SystemExit",
     "evalue": "",
     "output_type": "error",
     "traceback": [
      "An exception has occurred, use %tb to see the full traceback.\n",
      "\u001b[0;31mSystemExit\u001b[0m\n"
     ]
    },
    {
     "name": "stderr",
     "output_type": "stream",
     "text": [
      "To exit: use 'exit', 'quit', or Ctrl-D.\n"
     ]
    }
   ],
   "source": [
    "###\"\"\" @author: Sander.Buhling \"\"\"\n",
    "import numpy as np, sys\n",
    "from datetime import datetime\n",
    "\n",
    "def possible(y,x,n) :\n",
    "    global grid, tellerpossible\n",
    "    tellerpossible += 1\n",
    "    for i in range(9) : \n",
    "        if grid[y][i] == n : return False\n",
    "    for i in range(9) :\n",
    "        if grid[i][x] == n : return False\n",
    "    x0 = (x//3)*3; y0 = (y//3)*3\n",
    "    for i in range(0,3) : \n",
    "        for j in range(0,3) :\n",
    "            if grid[y0 + i][x0 + j] == n : return False\n",
    "    return True\n",
    "\n",
    "def solve() :\n",
    "    global grid, tellersolve\n",
    "    if checksolved() : sys.exit()\n",
    "    tellersolve += 1\n",
    "    for y in range(9) :\n",
    "        for x in range(9) :\n",
    "            if grid[y][x] == 0 :\n",
    "                for n in range(1,10) :\n",
    "                    if possible(y,x,n) :\n",
    "                        grid[y][x] = n\n",
    "                        solve()\n",
    "                        grid[y][x] = 0\n",
    "                return\n",
    "\n",
    "def checksolved():\n",
    "    global tellerchecksolved, TellerSolutions, starttime, timeout\n",
    "    tellerchecksolved += 1\n",
    "    for y in range(9) :\n",
    "        for x in range(9) :\n",
    "            if grid[y][x] == 0 : return False\n",
    "    elapsed = datetime.now() - starttime\n",
    "    print('Sudoku Oplossing:', TellerSolutions, '\\n', np.matrix(grid), '\\n', '\\n', 'Opgelost in ', datetime.now() - starttime , '\\n',\n",
    "    \"Functie solve: \", tellersolve, '\\n',\"Functie possible\", tellerpossible, '\\n', \"Functie checksolved\", tellerchecksolved)\n",
    "#    return True# only 1 solution\n",
    "    \n",
    "    if not checkmultiplesolutions: return True \n",
    "    \n",
    "    TellerSolutions += 1\n",
    "    if elapsed.seconds >= timeout: \n",
    "        print('\\n', 'Time out - Stopping calculations', '\\n')\n",
    "        return True\n",
    "    if TellerSolutions == maxsolutions : \n",
    "        print('\\n', 'More than', maxsolutions, '(max) solutions possible - Stopping calculations', '\\n')\n",
    "        return True\n",
    "    return False\n",
    "    \n",
    "grid = [[0,0,4,0,2,0,0,7,0],[0,7,0,0,0,0,6,2,0],[0,0,0,0,8,7,4,3,0],[2,0,0,8,0,0,9,0,0],[0,6,0,0,0,0,0,1,0],[0,0,3,0,0,1,0,0,2],[0,4,8,7,5,0,0,0,0],[0,5,1,0,0,0,0,9,0],[0,2,0,0,3,0,5,0,0]]\n",
    "#grid = [[0,0,0,0,0,0,0,0,0],[0,0,0,0,0,0,0,0,0],[0,0,0,0,8,7,4,3,0],[2,0,0,8,0,0,9,0,0],[0,6,0,0,0,0,0,1,0],[0,0,3,0,0,1,0,0,2],[0,4,8,7,5,0,0,0,0],[0,5,1,0,0,0,0,9,0],[0,2,0,0,3,0,5,0,0]]\n",
    "\n",
    "\n",
    "print('Sudoku Input:', '\\n', np.matrix(grid),\n",
    "      '\\n', \"Start met oplossen ...\", '\\n')\n",
    "starttime = datetime.now()\n",
    "\n",
    "tellersolve = 0; tellerpossible = 0; tellerchecksolved = 0; TellerSolutions = 1; \n",
    "\n",
    "timeout = 10; maxsolutions = 10\n",
    "checkmultiplesolutions = False\n",
    "\n",
    "solve()"
   ]
  },
  {
   "cell_type": "code",
   "execution_count": 75,
   "id": "intimate-eight",
   "metadata": {},
   "outputs": [
    {
     "data": {
      "text/plain": [
       "[[1, 3, 2, 4, 6, 5, 7, 8, 9],\n",
       " [4, 8, 7, 9, 1, 3, 2, 6, 5],\n",
       " [5, 9, 6, 2, 8, 7, 4, 3, 1],\n",
       " [2, 1, 4, 8, 7, 6, 9, 5, 3],\n",
       " [9, 6, 5, 3, 2, 4, 8, 1, 7],\n",
       " [8, 7, 3, 5, 9, 1, 6, 4, 2],\n",
       " [3, 4, 8, 7, 5, 9, 1, 2, 6],\n",
       " [7, 5, 1, 6, 4, 2, 3, 9, 8],\n",
       " [6, 2, 9, 1, 3, 8, 5, 7, 4]]"
      ]
     },
     "execution_count": 75,
     "metadata": {},
     "output_type": "execute_result"
    }
   ],
   "source": [
    "#grid[row][column]\n",
    "grid"
   ]
  },
  {
   "cell_type": "code",
   "execution_count": 76,
   "id": "middle-arcade",
   "metadata": {},
   "outputs": [
    {
     "data": {
      "text/plain": [
       "7"
      ]
     },
     "execution_count": 76,
     "metadata": {},
     "output_type": "execute_result"
    }
   ],
   "source": [
    "grid[1][2]"
   ]
  },
  {
   "cell_type": "code",
   "execution_count": null,
   "id": "immune-corrections",
   "metadata": {},
   "outputs": [],
   "source": []
  }
 ],
 "metadata": {
  "kernelspec": {
   "display_name": "Python 3",
   "language": "python",
   "name": "python3"
  },
  "language_info": {
   "codemirror_mode": {
    "name": "ipython",
    "version": 3
   },
   "file_extension": ".py",
   "mimetype": "text/x-python",
   "name": "python",
   "nbconvert_exporter": "python",
   "pygments_lexer": "ipython3",
   "version": "3.8.8"
  }
 },
 "nbformat": 4,
 "nbformat_minor": 5
}
